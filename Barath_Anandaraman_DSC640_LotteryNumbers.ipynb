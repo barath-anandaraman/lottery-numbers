{
 "cells": [
  {
   "cell_type": "markdown",
   "id": "cd17f9d2-33f8-456e-91f9-0282c4536504",
   "metadata": {},
   "source": [
    "* ##### Exercise: Lottery Numbers\n",
    "* ##### Name: Barath Anandaraman\n",
    "* ##### Course: DSC640-T301\n",
    "* ##### Weeks 7 & 8: Visualizing Relationships\n",
    "* ##### Date: 05/03/2025"
   ]
  },
  {
   "cell_type": "markdown",
   "id": "24e5ab3f-14fb-44c8-a92c-33e1eb3cfe03",
   "metadata": {},
   "source": [
    "---"
   ]
  },
  {
   "cell_type": "code",
   "execution_count": null,
   "id": "80bd6189-4e98-4962-a576-ef7789ffcee8",
   "metadata": {},
   "outputs": [],
   "source": []
  },
  {
   "cell_type": "code",
   "execution_count": 3,
   "id": "ad91102c-bf2c-45e6-b7f1-173e7799a5ba",
   "metadata": {},
   "outputs": [],
   "source": [
    "import pandas as pd"
   ]
  },
  {
   "cell_type": "code",
   "execution_count": 11,
   "id": "c81f5b5a-edee-4e34-8570-25650820c37d",
   "metadata": {},
   "outputs": [],
   "source": [
    "def preprocess_lottery_data(df, game_type, extra_ball=None):\n",
    "    df = df.copy()\n",
    "    # Extract Draw date\n",
    "    df['Draw Date'] = pd.to_datetime(df['Draw Date'])\n",
    "\n",
    "    # Split winning numbers into separate columns\n",
    "    winning_numbers_split = df['Winning Numbers'].str.split(\" \", expand=True)\n",
    "    winning_numbers_split.columns = [f'Num{i+1}' for i in range(winning_numbers_split.shape[1])]\n",
    "    df = pd.concat([df[['Draw Date']], winning_numbers_split], axis=1)\n",
    "\n",
    "    # Add Mega/Power Ball if applicable\n",
    "    if extra_ball and extra_ball in df.columns:\n",
    "        df[extra_ball] = df[extra_ball].astype(str)\n",
    "        #df = pd.concat([df, df[[extra_ball]].rename(columns={extra_ball: 'Extra_Ball'})], axis=1)\n",
    "        df['Extra_Ball'] = df[extra_ball]\n",
    "    else:\n",
    "        df['Extra_Ball'] = None\n",
    "\n",
    "    df['Game'] = game_type\n",
    "    return df"
   ]
  },
  {
   "cell_type": "markdown",
   "id": "9d5db3c7-a235-4470-b7e9-a806d7cd3fa8",
   "metadata": {},
   "source": [
    "##### Load datasets"
   ]
  },
  {
   "cell_type": "code",
   "execution_count": 4,
   "id": "23ec7a6d-2913-4aff-82a0-dd82fac82161",
   "metadata": {},
   "outputs": [],
   "source": [
    "mega_millions_df = pd.read_csv(r\"Lottery_Mega_Millions_Winning_Numbers__Beginning_2002_20240421.csv\")\n",
    "powerball_df = pd.read_csv(r\"Lottery_Powerball_Winning_Numbers__Beginning_2010_20240421.csv\")\n",
    "pick10_df = pd.read_csv(r\"Lottery_Pick_10_Winning_Numbers__Beginning_1987_20240421.csv\")"
   ]
  },
  {
   "cell_type": "code",
   "execution_count": 12,
   "id": "3c86570f-4656-4120-9226-7c9e09d8c056",
   "metadata": {},
   "outputs": [],
   "source": [
    "# Process each dataset\n",
    "processed_mega = preprocess_lottery_data(mega_millions_df, 'Mega Millions', 'Mega Ball')\n",
    "processed_powerball = preprocess_lottery_data(powerball_df, 'Powerball')\n",
    "processed_pick10 = preprocess_lottery_data(pick10_df, 'Pick 10')"
   ]
  },
  {
   "cell_type": "code",
   "execution_count": 13,
   "id": "c5aad6d4-b6ff-4a16-8d94-5d64581ec922",
   "metadata": {},
   "outputs": [],
   "source": [
    "# Combine all datasets into one for Tableau\n",
    "combined_df = pd.concat([processed_mega, processed_powerball, processed_pick10], ignore_index=True)"
   ]
  },
  {
   "cell_type": "code",
   "execution_count": 15,
   "id": "8f891314-6753-470e-bb27-fc9213ba4a1e",
   "metadata": {},
   "outputs": [],
   "source": [
    "# Reshape data for Tableau\n",
    "number_cols = [col for col in combined_df.columns if col.startswith(\"Num\")]\n",
    "melted_df = combined_df.melt(\n",
    "    id_vars=[\"Draw Date\", \"Game\", \"Extra_Ball\"],\n",
    "    value_vars = number_cols,\n",
    "    var_name=\"Position\",\n",
    "    value_name=\"Number\"\n",
    ")"
   ]
  },
  {
   "cell_type": "code",
   "execution_count": 16,
   "id": "32f9e260-9cd6-4795-8b30-c46c8fee8c97",
   "metadata": {},
   "outputs": [],
   "source": [
    "# Remove nulls\n",
    "melted_df = melted_df.dropna(subset=[\"Number\"])"
   ]
  },
  {
   "cell_type": "code",
   "execution_count": 17,
   "id": "8d8e0d25-325c-4e27-a457-86c5420dd397",
   "metadata": {},
   "outputs": [],
   "source": [
    "# Save to CSV for Tableau use\n",
    "melted_df.to_csv('Reshaped_Lottery_Winning_Numbers.csv', index=False)"
   ]
  },
  {
   "cell_type": "code",
   "execution_count": 10,
   "id": "836f8ed0-ddf8-4987-8aa1-9a9a0b3c3b37",
   "metadata": {},
   "outputs": [],
   "source": [
    "# Save to CSV for Tableau use\n",
    "combined_df.to_csv('Combined_Lottery_Winning_Numbers.csv', index=False)"
   ]
  },
  {
   "cell_type": "code",
   "execution_count": null,
   "id": "250bc4cc-e591-447d-92ad-114a337e9acf",
   "metadata": {},
   "outputs": [],
   "source": []
  }
 ],
 "metadata": {
  "kernelspec": {
   "display_name": "Python 3 (ipykernel)",
   "language": "python",
   "name": "python3"
  },
  "language_info": {
   "codemirror_mode": {
    "name": "ipython",
    "version": 3
   },
   "file_extension": ".py",
   "mimetype": "text/x-python",
   "name": "python",
   "nbconvert_exporter": "python",
   "pygments_lexer": "ipython3",
   "version": "3.12.7"
  }
 },
 "nbformat": 4,
 "nbformat_minor": 5
}
